{
  "nbformat": 4,
  "nbformat_minor": 0,
  "metadata": {
    "colab": {
      "provenance": [],
      "authorship_tag": "ABX9TyMa3A7Gs7diriXlIrMy072T",
      "include_colab_link": true
    },
    "kernelspec": {
      "name": "python3",
      "display_name": "Python 3"
    },
    "language_info": {
      "name": "python"
    }
  },
  "cells": [
    {
      "cell_type": "markdown",
      "metadata": {
        "id": "view-in-github",
        "colab_type": "text"
      },
      "source": [
        "<a href=\"https://colab.research.google.com/github/TiagoDeserth/Ci-ncia-de-Dados/blob/main/Ci%C3%AAncia_de_Dados_Classifica%C3%A7%C3%A3o_Porquinho_e_Cachorrinho.ipynb\" target=\"_parent\"><img src=\"https://colab.research.google.com/assets/colab-badge.svg\" alt=\"Open In Colab\"/></a>"
      ]
    },
    {
      "cell_type": "code",
      "execution_count": null,
      "metadata": {
        "id": "WtqqoC8-us0h"
      },
      "outputs": [],
      "source": [
        "#Features = Características (1 - Sim | 0 - Não)\n",
        "#1 - Pelo longo?\n",
        "#2 - Perna curta?\n",
        "#3 - Faz auau?"
      ]
    },
    {
      "cell_type": "code",
      "source": [
        "porco1 = [0, 1, 0]\n",
        "porco2 = [1, 0, 0]\n",
        "porco3 = [0, 1, 0]\n",
        "porco4 = [1, 0, 0]\n",
        "porco5 = [0, 1, 0]\n",
        "\n",
        "cachorro1 = [0, 1, 1]\n",
        "cachorro2 = [1, 0, 1]\n",
        "cachorro3 = [1, 0, 1]\n",
        "cachorro4 = [0, 1, 1]\n",
        "cachorro5 = [1, 0, 1]"
      ],
      "metadata": {
        "id": "UeAnT2JfvI14"
      },
      "execution_count": null,
      "outputs": []
    },
    {
      "cell_type": "code",
      "source": [
        "dados = [porco1, porco2, porco3, porco4, porco5, cachorro1, cachorro2, cachorro3, cachorro4, cachorro5]\n",
        "classes = [1, 1, 1, 1, 1, 0, 0, 0, 0, 0]"
      ],
      "metadata": {
        "id": "oK0P6sTfvig3"
      },
      "execution_count": null,
      "outputs": []
    },
    {
      "cell_type": "code",
      "source": [
        "from sklearn.neighbors import KNeighborsClassifier #Biblioteca Python para trabalhos com Machine Learning"
      ],
      "metadata": {
        "id": "NevAAoPiwmKG"
      },
      "execution_count": null,
      "outputs": []
    },
    {
      "cell_type": "code",
      "source": [
        "model = KNeighborsClassifier(n_neighbors = 3)\n",
        "model.fit(dados, classes) #Treinando algoritmo (Fit -> Treinar)"
      ],
      "metadata": {
        "colab": {
          "base_uri": "https://localhost:8080/"
        },
        "id": "mvKA8J19wwPe",
        "outputId": "e5fccfc1-4d9a-4369-97f0-4c3105989db5"
      },
      "execution_count": null,
      "outputs": [
        {
          "output_type": "execute_result",
          "data": {
            "text/plain": [
              "KNeighborsClassifier(n_neighbors=3)"
            ]
          },
          "metadata": {},
          "execution_count": 33
        }
      ]
    },
    {
      "cell_type": "code",
      "source": [
        "animal_misterioso1 = [1, 0, 0]\n",
        "model.predict([animal_misterioso1])"
      ],
      "metadata": {
        "colab": {
          "base_uri": "https://localhost:8080/"
        },
        "id": "oLRQYiKWxOWI",
        "outputId": "4d7758bf-19e1-4bd9-d80f-5888a62780b3"
      },
      "execution_count": null,
      "outputs": [
        {
          "output_type": "execute_result",
          "data": {
            "text/plain": [
              "array([1])"
            ]
          },
          "metadata": {},
          "execution_count": 34
        }
      ]
    },
    {
      "cell_type": "code",
      "source": [
        "animal_misterioso2 = [0, 1, 0]\n",
        "model.predict([animal_misterioso2])"
      ],
      "metadata": {
        "colab": {
          "base_uri": "https://localhost:8080/"
        },
        "id": "6S36ZTS6x5eW",
        "outputId": "4d7c6d3c-b42b-4c48-a138-4f9d063b587e"
      },
      "execution_count": null,
      "outputs": [
        {
          "output_type": "execute_result",
          "data": {
            "text/plain": [
              "array([1])"
            ]
          },
          "metadata": {},
          "execution_count": 35
        }
      ]
    },
    {
      "cell_type": "code",
      "source": [
        "animal_misterioso3 = [1, 1, 1]\n",
        "model.predict([animal_misterioso3])"
      ],
      "metadata": {
        "colab": {
          "base_uri": "https://localhost:8080/"
        },
        "id": "WQB0f5LFyBt0",
        "outputId": "48b7b8c0-1084-4a84-c77f-48b04adccbf8"
      },
      "execution_count": null,
      "outputs": [
        {
          "output_type": "execute_result",
          "data": {
            "text/plain": [
              "array([0])"
            ]
          },
          "metadata": {},
          "execution_count": 36
        }
      ]
    },
    {
      "cell_type": "code",
      "source": [
        "#Animal que late\n",
        "animal_misterioso4 = [0, 0, 1]\n",
        "model.predict([animal_misterioso4])"
      ],
      "metadata": {
        "colab": {
          "base_uri": "https://localhost:8080/"
        },
        "id": "dIgLxAC_yded",
        "outputId": "0d65a762-65f9-4511-c456-33aa03dbaa3c"
      },
      "execution_count": null,
      "outputs": [
        {
          "output_type": "execute_result",
          "data": {
            "text/plain": [
              "array([0])"
            ]
          },
          "metadata": {},
          "execution_count": 37
        }
      ]
    }
  ]
}
